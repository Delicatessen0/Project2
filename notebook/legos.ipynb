{
 "cells": [
  {
   "cell_type": "markdown",
   "metadata": {},
   "source": [
    "# **Tutorial: Data Analysis using Python Pandas**\n",
    "\n",
    "In this tutorial, we will explore the usage of Python libraries such as Pandas, NumPy,and Matplotlib to analyze the \"LEGO Sets and Themes\" dataset to provide insights into the world of LEGO.\n",
    "\n",
    "### **About the Dataset**\n",
    "\n",
    "The dataset is obtained from Kaggle (https://www.kaggle.com/datasets/jkraak/lego-sets-and-themes-database).\n",
    "\n",
    "This dataset is a comprehensive dataset containing attributes such as set number, set name, theme category, the count of pieces included, release year, and a visual representation of each set from 1949 to 2023.\n",
    "\n",
    "In this tutorial, we are going to **analyze the LEGO Sets and Themes Database**, in order to obtains answers for the following questions:\n",
    "1. On average, how many LEGO sets are released every year?\n",
    "2. Which LEGO themes has the highest number of sets?\n",
    "3. What are the top 10 LEGO sets with the highest number of parts?\n",
    "4. What are the top 10 LEGO sets with the lowest number of parts?\n",
    "\n",
    "\n",
    "#### By the end of this tutorial, you should be able to:\n",
    "- Understand how to solve real-time data analysis problems\n",
    "- Read and analyze data from an external file (.csv)\n",
    "- Derive solutions through data visualization\n"
   ]
  },
  {
   "cell_type": "markdown",
   "metadata": {},
   "source": [
    "## Steps To Perform Data Analysis"
   ]
  },
  {
   "cell_type": "markdown",
   "metadata": {},
   "source": [
    "### Step 1: Importing Data and Libraries\n",
    "- This is the most crucial step as you have to import external data that you will analyze, as well as any Python libraries, if needed."
   ]
  },
  {
   "cell_type": "markdown",
   "metadata": {},
   "source": [
    "Import the required libraries that you will be using. In this tutorial, we are using Pandas, NumPy and Matplotlib."
   ]
  },
  {
   "cell_type": "code",
   "execution_count": 33,
   "metadata": {},
   "outputs": [],
   "source": [
    "import pandas as pd\n",
    "import numpy as np \n",
    "import matplotlib as plt"
   ]
  },
  {
   "cell_type": "markdown",
   "metadata": {},
   "source": [
    "Then, import your dataset that is in .csv format into the Pandas DataFrame"
   ]
  },
  {
   "cell_type": "code",
   "execution_count": 34,
   "metadata": {},
   "outputs": [],
   "source": [
    "data = pd.read_csv('/workspaces/Project2/data/lego_sets_and_themes.csv')"
   ]
  },
  {
   "cell_type": "markdown",
   "metadata": {},
   "source": [
    "### Step 2: Reading data\n",
    "- It is important that we read and explore the data before performing any cleaning and analyzation.\n",
    "- It helps you to understand the structure of the data, including its variables, formats, and any missing values."
   ]
  },
  {
   "cell_type": "markdown",
   "metadata": {},
   "source": [
    "**data.columns** - Retrieve the column names of the dataframe"
   ]
  },
  {
   "cell_type": "code",
   "execution_count": 35,
   "metadata": {},
   "outputs": [
    {
     "data": {
      "text/plain": [
       "Index(['set_number', 'set_name', 'year_released', 'number_of_parts',\n",
       "       'image_url', 'theme_name'],\n",
       "      dtype='object')"
      ]
     },
     "execution_count": 35,
     "metadata": {},
     "output_type": "execute_result"
    }
   ],
   "source": [
    "data.columns "
   ]
  },
  {
   "cell_type": "markdown",
   "metadata": {},
   "source": [
    "**data.head()** - Display the first 5 rows of the dataframe"
   ]
  },
  {
   "cell_type": "code",
   "execution_count": 36,
   "metadata": {},
   "outputs": [
    {
     "data": {
      "text/html": [
       "<div>\n",
       "<style scoped>\n",
       "    .dataframe tbody tr th:only-of-type {\n",
       "        vertical-align: middle;\n",
       "    }\n",
       "\n",
       "    .dataframe tbody tr th {\n",
       "        vertical-align: top;\n",
       "    }\n",
       "\n",
       "    .dataframe thead th {\n",
       "        text-align: right;\n",
       "    }\n",
       "</style>\n",
       "<table border=\"1\" class=\"dataframe\">\n",
       "  <thead>\n",
       "    <tr style=\"text-align: right;\">\n",
       "      <th></th>\n",
       "      <th>set_number</th>\n",
       "      <th>set_name</th>\n",
       "      <th>year_released</th>\n",
       "      <th>number_of_parts</th>\n",
       "      <th>image_url</th>\n",
       "      <th>theme_name</th>\n",
       "    </tr>\n",
       "  </thead>\n",
       "  <tbody>\n",
       "    <tr>\n",
       "      <th>0</th>\n",
       "      <td>001-1</td>\n",
       "      <td>Gears</td>\n",
       "      <td>1965.0</td>\n",
       "      <td>43.0</td>\n",
       "      <td>https://cdn.rebrickable.com/media/sets/001-1.jpg</td>\n",
       "      <td>Technic</td>\n",
       "    </tr>\n",
       "    <tr>\n",
       "      <th>1</th>\n",
       "      <td>002-1</td>\n",
       "      <td>4.5V Samsonite Gears Motor Set</td>\n",
       "      <td>1965.0</td>\n",
       "      <td>3.0</td>\n",
       "      <td>https://cdn.rebrickable.com/media/sets/002-1.jpg</td>\n",
       "      <td>Technic</td>\n",
       "    </tr>\n",
       "    <tr>\n",
       "      <th>2</th>\n",
       "      <td>1030-1</td>\n",
       "      <td>TECHNIC I: Simple Machines Set</td>\n",
       "      <td>1985.0</td>\n",
       "      <td>210.0</td>\n",
       "      <td>https://cdn.rebrickable.com/media/sets/1030-1.jpg</td>\n",
       "      <td>Technic</td>\n",
       "    </tr>\n",
       "    <tr>\n",
       "      <th>3</th>\n",
       "      <td>1038-1</td>\n",
       "      <td>ERBIE the Robo-Car</td>\n",
       "      <td>1985.0</td>\n",
       "      <td>120.0</td>\n",
       "      <td>https://cdn.rebrickable.com/media/sets/1038-1.jpg</td>\n",
       "      <td>Technic</td>\n",
       "    </tr>\n",
       "    <tr>\n",
       "      <th>4</th>\n",
       "      <td>1039-1</td>\n",
       "      <td>Manual Control Set 1</td>\n",
       "      <td>1986.0</td>\n",
       "      <td>39.0</td>\n",
       "      <td>https://cdn.rebrickable.com/media/sets/1039-1.jpg</td>\n",
       "      <td>Technic</td>\n",
       "    </tr>\n",
       "  </tbody>\n",
       "</table>\n",
       "</div>"
      ],
      "text/plain": [
       "  set_number                        set_name  year_released  number_of_parts  \\\n",
       "0      001-1                           Gears         1965.0             43.0   \n",
       "1      002-1  4.5V Samsonite Gears Motor Set         1965.0              3.0   \n",
       "2     1030-1  TECHNIC I: Simple Machines Set         1985.0            210.0   \n",
       "3     1038-1              ERBIE the Robo-Car         1985.0            120.0   \n",
       "4     1039-1            Manual Control Set 1         1986.0             39.0   \n",
       "\n",
       "                                           image_url theme_name  \n",
       "0   https://cdn.rebrickable.com/media/sets/001-1.jpg    Technic  \n",
       "1   https://cdn.rebrickable.com/media/sets/002-1.jpg    Technic  \n",
       "2  https://cdn.rebrickable.com/media/sets/1030-1.jpg    Technic  \n",
       "3  https://cdn.rebrickable.com/media/sets/1038-1.jpg    Technic  \n",
       "4  https://cdn.rebrickable.com/media/sets/1039-1.jpg    Technic  "
      ]
     },
     "execution_count": 36,
     "metadata": {},
     "output_type": "execute_result"
    }
   ],
   "source": [
    "data.head()"
   ]
  },
  {
   "cell_type": "markdown",
   "metadata": {},
   "source": [
    "**data.tail()** - Display the last 5 rows of the dataframe"
   ]
  },
  {
   "cell_type": "code",
   "execution_count": 37,
   "metadata": {},
   "outputs": [
    {
     "data": {
      "text/html": [
       "<div>\n",
       "<style scoped>\n",
       "    .dataframe tbody tr th:only-of-type {\n",
       "        vertical-align: middle;\n",
       "    }\n",
       "\n",
       "    .dataframe tbody tr th {\n",
       "        vertical-align: top;\n",
       "    }\n",
       "\n",
       "    .dataframe thead th {\n",
       "        text-align: right;\n",
       "    }\n",
       "</style>\n",
       "<table border=\"1\" class=\"dataframe\">\n",
       "  <thead>\n",
       "    <tr style=\"text-align: right;\">\n",
       "      <th></th>\n",
       "      <th>set_number</th>\n",
       "      <th>set_name</th>\n",
       "      <th>year_released</th>\n",
       "      <th>number_of_parts</th>\n",
       "      <th>image_url</th>\n",
       "      <th>theme_name</th>\n",
       "    </tr>\n",
       "  </thead>\n",
       "  <tbody>\n",
       "    <tr>\n",
       "      <th>21498</th>\n",
       "      <td>71039-4</td>\n",
       "      <td>The Werewolf</td>\n",
       "      <td>2023.0</td>\n",
       "      <td>0.0</td>\n",
       "      <td>https://cdn.rebrickable.com/media/sets/71039-4...</td>\n",
       "      <td>Marvel Series 2</td>\n",
       "    </tr>\n",
       "    <tr>\n",
       "      <th>21499</th>\n",
       "      <td>71039-5</td>\n",
       "      <td>She-Hulk</td>\n",
       "      <td>2023.0</td>\n",
       "      <td>0.0</td>\n",
       "      <td>https://cdn.rebrickable.com/media/sets/71039-5...</td>\n",
       "      <td>Marvel Series 2</td>\n",
       "    </tr>\n",
       "    <tr>\n",
       "      <th>21500</th>\n",
       "      <td>71039-6</td>\n",
       "      <td>Hawkeye</td>\n",
       "      <td>2023.0</td>\n",
       "      <td>0.0</td>\n",
       "      <td>https://cdn.rebrickable.com/media/sets/71039-6...</td>\n",
       "      <td>Marvel Series 2</td>\n",
       "    </tr>\n",
       "    <tr>\n",
       "      <th>21501</th>\n",
       "      <td>71039-7</td>\n",
       "      <td>Kate Bishop</td>\n",
       "      <td>2023.0</td>\n",
       "      <td>0.0</td>\n",
       "      <td>https://cdn.rebrickable.com/media/sets/71039-7...</td>\n",
       "      <td>Marvel Series 2</td>\n",
       "    </tr>\n",
       "    <tr>\n",
       "      <th>21502</th>\n",
       "      <td>71039-8</td>\n",
       "      <td>Goliath</td>\n",
       "      <td>2023.0</td>\n",
       "      <td>0.0</td>\n",
       "      <td>https://cdn.rebrickable.com/media/sets/71039-8...</td>\n",
       "      <td>Marvel Series 2</td>\n",
       "    </tr>\n",
       "  </tbody>\n",
       "</table>\n",
       "</div>"
      ],
      "text/plain": [
       "      set_number      set_name  year_released  number_of_parts  \\\n",
       "21498    71039-4  The Werewolf         2023.0              0.0   \n",
       "21499    71039-5      She-Hulk         2023.0              0.0   \n",
       "21500    71039-6       Hawkeye         2023.0              0.0   \n",
       "21501    71039-7   Kate Bishop         2023.0              0.0   \n",
       "21502    71039-8       Goliath         2023.0              0.0   \n",
       "\n",
       "                                               image_url       theme_name  \n",
       "21498  https://cdn.rebrickable.com/media/sets/71039-4...  Marvel Series 2  \n",
       "21499  https://cdn.rebrickable.com/media/sets/71039-5...  Marvel Series 2  \n",
       "21500  https://cdn.rebrickable.com/media/sets/71039-6...  Marvel Series 2  \n",
       "21501  https://cdn.rebrickable.com/media/sets/71039-7...  Marvel Series 2  \n",
       "21502  https://cdn.rebrickable.com/media/sets/71039-8...  Marvel Series 2  "
      ]
     },
     "execution_count": 37,
     "metadata": {},
     "output_type": "execute_result"
    }
   ],
   "source": [
    "data.tail()"
   ]
  },
  {
   "cell_type": "markdown",
   "metadata": {},
   "source": [
    "**data.shape** - Retrieve the dimensions of a dataframe. In other words, it will tell you the number of rows and columns of the dataframe"
   ]
  },
  {
   "cell_type": "code",
   "execution_count": 38,
   "metadata": {},
   "outputs": [
    {
     "data": {
      "text/plain": [
       "(21503, 6)"
      ]
     },
     "execution_count": 38,
     "metadata": {},
     "output_type": "execute_result"
    }
   ],
   "source": [
    "data.shape"
   ]
  },
  {
   "cell_type": "markdown",
   "metadata": {},
   "source": [
    "**data.describe()** - Generate descriptive statistics of a dataframe. It will return statistics such as count, mean, standard deviation, minimum, 1st quartile, median, 3rd quartile and maximum."
   ]
  },
  {
   "cell_type": "code",
   "execution_count": 39,
   "metadata": {},
   "outputs": [
    {
     "data": {
      "text/html": [
       "<div>\n",
       "<style scoped>\n",
       "    .dataframe tbody tr th:only-of-type {\n",
       "        vertical-align: middle;\n",
       "    }\n",
       "\n",
       "    .dataframe tbody tr th {\n",
       "        vertical-align: top;\n",
       "    }\n",
       "\n",
       "    .dataframe thead th {\n",
       "        text-align: right;\n",
       "    }\n",
       "</style>\n",
       "<table border=\"1\" class=\"dataframe\">\n",
       "  <thead>\n",
       "    <tr style=\"text-align: right;\">\n",
       "      <th></th>\n",
       "      <th>year_released</th>\n",
       "      <th>number_of_parts</th>\n",
       "    </tr>\n",
       "  </thead>\n",
       "  <tbody>\n",
       "    <tr>\n",
       "      <th>count</th>\n",
       "      <td>21496.000000</td>\n",
       "      <td>21496.000000</td>\n",
       "    </tr>\n",
       "    <tr>\n",
       "      <th>mean</th>\n",
       "      <td>2007.579782</td>\n",
       "      <td>162.461760</td>\n",
       "    </tr>\n",
       "    <tr>\n",
       "      <th>std</th>\n",
       "      <td>13.980685</td>\n",
       "      <td>417.187521</td>\n",
       "    </tr>\n",
       "    <tr>\n",
       "      <th>min</th>\n",
       "      <td>1949.000000</td>\n",
       "      <td>0.000000</td>\n",
       "    </tr>\n",
       "    <tr>\n",
       "      <th>25%</th>\n",
       "      <td>2001.000000</td>\n",
       "      <td>4.000000</td>\n",
       "    </tr>\n",
       "    <tr>\n",
       "      <th>50%</th>\n",
       "      <td>2012.000000</td>\n",
       "      <td>32.000000</td>\n",
       "    </tr>\n",
       "    <tr>\n",
       "      <th>75%</th>\n",
       "      <td>2018.000000</td>\n",
       "      <td>142.000000</td>\n",
       "    </tr>\n",
       "    <tr>\n",
       "      <th>max</th>\n",
       "      <td>2023.000000</td>\n",
       "      <td>11695.000000</td>\n",
       "    </tr>\n",
       "  </tbody>\n",
       "</table>\n",
       "</div>"
      ],
      "text/plain": [
       "       year_released  number_of_parts\n",
       "count   21496.000000     21496.000000\n",
       "mean     2007.579782       162.461760\n",
       "std        13.980685       417.187521\n",
       "min      1949.000000         0.000000\n",
       "25%      2001.000000         4.000000\n",
       "50%      2012.000000        32.000000\n",
       "75%      2018.000000       142.000000\n",
       "max      2023.000000     11695.000000"
      ]
     },
     "execution_count": 39,
     "metadata": {},
     "output_type": "execute_result"
    }
   ],
   "source": [
    "data.describe()"
   ]
  },
  {
   "cell_type": "markdown",
   "metadata": {},
   "source": [
    "**data.dtypes** - Display the datatypes of each column in the dataframe"
   ]
  },
  {
   "cell_type": "code",
   "execution_count": 45,
   "metadata": {},
   "outputs": [
    {
     "data": {
      "text/plain": [
       "set_number          object\n",
       "set_name            object\n",
       "year_released      float64\n",
       "number_of_parts    float64\n",
       "image_url           object\n",
       "theme_name          object\n",
       "dtype: object"
      ]
     },
     "execution_count": 45,
     "metadata": {},
     "output_type": "execute_result"
    }
   ],
   "source": [
    "data.dtypes"
   ]
  },
  {
   "cell_type": "markdown",
   "metadata": {},
   "source": [
    "### Step 3: Cleaning and Preparing Data\n",
    "- Data cleaning is also important to perform before you start analyzing your data as it involves identifying and correcting errors or inconsistencies in datasets to improve their quality and reliability. \n",
    "- Data preparation will shape the data in a way that is conducive to the specific analysis or modeling task. This may involve creating new features, aggregating data, or reformatting variables to better suit the requirements of the analysis or modeling technique."
   ]
  },
  {
   "cell_type": "markdown",
   "metadata": {},
   "source": [
    "**data.isnull().sum()** - Check for missing values in a dataframe\n",
    "\n",
    "- isnull() is used to identify missing or NA values in the DataFrame. It will return True for each corresponding element that is missing.\n",
    "\n",
    "- sum() is used to sum the True values along each column. Since True is interpreted as 1 and False as 0 when summing, the result is a Series containing the total number of missing values for each column."
   ]
  },
  {
   "cell_type": "code",
   "execution_count": 40,
   "metadata": {},
   "outputs": [
    {
     "data": {
      "text/plain": [
       "set_number         7\n",
       "set_name           7\n",
       "year_released      7\n",
       "number_of_parts    7\n",
       "image_url          7\n",
       "theme_name         0\n",
       "dtype: int64"
      ]
     },
     "execution_count": 40,
     "metadata": {},
     "output_type": "execute_result"
    }
   ],
   "source": [
    "data.isnull().sum()"
   ]
  },
  {
   "cell_type": "markdown",
   "metadata": {},
   "source": [
    ">> We can see from the given output that the above columns have null values."
   ]
  },
  {
   "cell_type": "markdown",
   "metadata": {},
   "source": [
    "**data.dropna()** - Remove rows containing missing values (NaN) from a DataFrame. It is important that we eliminate rows that contains incomplete information so our analysis stays accurate. \n",
    "\n",
    "- We set the parameter condition to how = \"all\" because this parameter specifies that a row will be dropped only if all the specified columns have missing values. If any of the specified columns has a non-missing value, the row will be retained.\n",
    "\n",
    "- We also set the parameter condition to subset = [columns names with null values] so that only the specified columns will be examined for missing values.\n",
    "\n",
    "- The parameter condition inplace = True is used to modify the DataFrame in place, meaning that the changes will be applied to the existing DataFrame data, and it won't return a new DataFrame."
   ]
  },
  {
   "cell_type": "code",
   "execution_count": 42,
   "metadata": {},
   "outputs": [
    {
     "data": {
      "text/plain": [
       "set_number         0\n",
       "set_name           0\n",
       "year_released      0\n",
       "number_of_parts    0\n",
       "image_url          0\n",
       "theme_name         0\n",
       "dtype: int64"
      ]
     },
     "execution_count": 42,
     "metadata": {},
     "output_type": "execute_result"
    }
   ],
   "source": [
    "data.dropna(how=\"all\", subset = ['set_number','set_name','year_released','number_of_parts','image_url'],inplace=True)\n",
    "data.isnull().sum()"
   ]
  },
  {
   "cell_type": "markdown",
   "metadata": {},
   "source": [
    "**data.duplicated().sum()** - Count the number of duplicated rows in the dataframe"
   ]
  },
  {
   "cell_type": "code",
   "execution_count": 43,
   "metadata": {},
   "outputs": [
    {
     "data": {
      "text/plain": [
       "0"
      ]
     },
     "execution_count": 43,
     "metadata": {},
     "output_type": "execute_result"
    }
   ],
   "source": [
    "data.duplicated().sum()"
   ]
  },
  {
   "cell_type": "markdown",
   "metadata": {},
   "source": [
    " **data.sort_values()** - Sort a dataframe by specified columns"
   ]
  },
  {
   "cell_type": "code",
   "execution_count": 48,
   "metadata": {},
   "outputs": [],
   "source": [
    "data.sort_values('theme_name')"
   ]
  }
 ],
 "metadata": {
  "kernelspec": {
   "display_name": "Python 3",
   "language": "python",
   "name": "python3"
  },
  "language_info": {
   "codemirror_mode": {
    "name": "ipython",
    "version": 3
   },
   "file_extension": ".py",
   "mimetype": "text/x-python",
   "name": "python",
   "nbconvert_exporter": "python",
   "pygments_lexer": "ipython3",
   "version": "3.10.13"
  }
 },
 "nbformat": 4,
 "nbformat_minor": 2
}
