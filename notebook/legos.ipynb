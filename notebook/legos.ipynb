{
 "cells": [
  {
   "cell_type": "markdown",
   "metadata": {},
   "source": [
    "**Tutorial: Data Analaysis using Python Pandas**\n",
    "\n",
    "In this tutorial, we will explore the usage of Python libraries for data analysis such as Pandas, NumPy,and Matplotlib on \n",
    "\n",
    "\n",
    "Below are some questions that I hope to find the answers as I analyzes this dataset:\n",
    "\n",
    "1. On average, how many LEGO sets are released every year?\n",
    "\n",
    "2. Which LEGO themes has the highest number of sets, as of today?\n",
    "\n",
    "3. What are the top 10 LEGO themes and how many sets does each themes have?\n",
    "\n",
    "4. How has the popularity of different themes changed over the years?\n",
    "\n",
    "5. Which LEGO themes are associated with the highest and the lowest number of parts? Who are the target market of these themes?\n",
    "\n",
    "6. Are there any observable patterns in the release of LEGO sets over time? Are certain years associated with a higher number of releases, and are there any periods of decreased activity?\n",
    "\n",
    "7. Which themes have demonstrated remarkable longevity, remaining relevant and producing sets across multiple decades? What factors might contribute to the sustained popularity of these themes?\n"
   ]
  },
  {
   "cell_type": "code",
   "execution_count": 2,
   "metadata": {},
   "outputs": [],
   "source": [
    "import pandas as pd\n",
    "import numpy as np \n",
    "import matplotlib as plt"
   ]
  },
  {
   "cell_type": "code",
   "execution_count": 3,
   "metadata": {},
   "outputs": [],
   "source": [
    "data = pd.read_csv('/workspaces/Project2/data/lego_sets_and_themes.csv')"
   ]
  },
  {
   "cell_type": "code",
   "execution_count": null,
   "metadata": {},
   "outputs": [],
   "source": []
  }
 ],
 "metadata": {
  "kernelspec": {
   "display_name": "Python 3",
   "language": "python",
   "name": "python3"
  },
  "language_info": {
   "codemirror_mode": {
    "name": "ipython",
    "version": 3
   },
   "file_extension": ".py",
   "mimetype": "text/x-python",
   "name": "python",
   "nbconvert_exporter": "python",
   "pygments_lexer": "ipython3",
   "version": "3.10.13"
  }
 },
 "nbformat": 4,
 "nbformat_minor": 2
}
