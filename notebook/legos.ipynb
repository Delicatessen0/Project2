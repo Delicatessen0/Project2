{
 "cells": [
  {
   "cell_type": "markdown",
   "metadata": {},
   "source": [
    "**Tutorial: Data Analysis using Python Pandas**\n",
    "\n",
    "In this tutorial, we will explore the usage of Python libraries such as Pandas, NumPy,and Matplotlib to analyze the \"LEGO Sets and Themes\" dataset to provide insights into the world of LEGO.\n",
    "\n",
    "**About the Dataset**\n",
    "\n",
    "The dataset is obtained from Kaggle (https://www.kaggle.com/datasets/jkraak/lego-sets-and-themes-database).\n",
    "\n",
    "This dataset contains over 21.503 records and it provides information on LEGO sets. This dataset includes attributes such as set number, set name, theme category, the count of pieces included, release year, and a visual representation of each set. \n",
    "\n",
    "In this tutorial, we are going to **analyze the LEGO Sets and Themes for the last ten years, from 2013 to 2023**, in order to obtains answers for the following questions:\n",
    "1. On average, how many LEGO sets are released every year, from 2013 to 2023.\n",
    "2. Which LEGO themes from 2013 to 2023 has the highest number of sets?\n",
    "3. What are the top 5 LEGO sets from 2013 to 2023 that has the highest number of parts?\n",
    "4. What are the top 5 LEGO sets from 2013 to 2023 that has the lowest number of parts?\n",
    "\n",
    "\n",
    "By the end of this tutorial, you should be able to:\n",
    "- Understand how to solve real-time data analysis problems\n",
    "- Read and analyze data from an external file (.csv)\n",
    "- Derive solutions through data visualization\n"
   ]
  },
  {
   "cell_type": "code",
   "execution_count": 2,
   "metadata": {},
   "outputs": [],
   "source": [
    "import pandas as pd\n",
    "import numpy as np \n",
    "import matplotlib as plt"
   ]
  },
  {
   "cell_type": "code",
   "execution_count": 3,
   "metadata": {},
   "outputs": [],
   "source": [
    "data = pd.read_csv('/workspaces/Project2/data/lego_sets_and_themes.csv')"
   ]
  },
  {
   "cell_type": "code",
   "execution_count": null,
   "metadata": {},
   "outputs": [],
   "source": []
  }
 ],
 "metadata": {
  "kernelspec": {
   "display_name": "Python 3",
   "language": "python",
   "name": "python3"
  },
  "language_info": {
   "codemirror_mode": {
    "name": "ipython",
    "version": 3
   },
   "file_extension": ".py",
   "mimetype": "text/x-python",
   "name": "python",
   "nbconvert_exporter": "python",
   "pygments_lexer": "ipython3",
   "version": "3.10.13"
  }
 },
 "nbformat": 4,
 "nbformat_minor": 2
}
